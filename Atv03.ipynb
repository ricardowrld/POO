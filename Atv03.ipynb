{
 "cells": [
  {
   "cell_type": "markdown",
   "id": "d5ae4ccf-c5aa-4a87-b9c6-cae887fe206d",
   "metadata": {},
   "source": [
    "# Atividade 03"
   ]
  },
  {
   "cell_type": "markdown",
   "id": "93916147-f75c-4ced-8daf-5174556b6447",
   "metadata": {},
   "source": [
    "## Crie uma classe em java capaz de imprimir o seu nome no console."
   ]
  },
  {
   "cell_type": "code",
   "execution_count": null,
   "id": "69171a82-6529-4e07-b42c-92e1f7f50b34",
   "metadata": {
    "vscode": {
     "languageId": "java"
    }
   },
   "outputs": [],
   "source": [
    "//public static void Untitled{\n",
    "    //public static main(String[] args) {\n",
    "        System.out.println(\"Ricardo\");\n",
    "    //}\n",
    "//}"
   ]
  },
  {
   "cell_type": "markdown",
   "id": "730f1428-4dd4-4379-8534-5ea4326f0e65",
   "metadata": {},
   "source": [
    "## Crie uma classe que efetue a leitura de um valor qualquer e exiba o seu respectivo valor na tabela ASCII."
   ]
  },
  {
   "cell_type": "code",
   "execution_count": null,
   "id": "bd58f79e-17d2-497e-828f-37c7497fb8df",
   "metadata": {
    "vscode": {
     "languageId": "java"
    }
   },
   "outputs": [],
   "source": [
    "//public class Untitled{\n",
    "    //public static void main(String[] args) {\n",
    "        System.out.print(\"Digite um valor inteiro: \");\n",
    "        int valor = System.in.read(); // Lê um byte da entrada padrão (stdin)\n",
    "        char caractere = (char) valor;\n",
    "        System.out.println(\"O valor \" + valor + \" na tabela ASCII é: \" + caractere);\n",
    "   // }\n",
    "//}"
   ]
  }
 ],
 "metadata": {
  "kernelspec": {
   "display_name": "Java",
   "language": "java",
   "name": "java"
  },
  "language_info": {
   "codemirror_mode": "java",
   "file_extension": ".jshell",
   "mimetype": "text/x-java-source",
   "name": "Java",
   "pygments_lexer": "java",
   "version": "21.0.1+12-LTS-29"
  }
 },
 "nbformat": 4,
 "nbformat_minor": 5
}
